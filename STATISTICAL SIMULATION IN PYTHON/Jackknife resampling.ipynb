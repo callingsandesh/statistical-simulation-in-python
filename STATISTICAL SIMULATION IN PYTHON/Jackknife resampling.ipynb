{
 "cells": [
  {
   "cell_type": "code",
   "execution_count": 2,
   "id": "ed06eba6",
   "metadata": {},
   "outputs": [],
   "source": [
    "import numpy as np"
   ]
  },
  {
   "cell_type": "markdown",
   "id": "b39633b4",
   "metadata": {},
   "source": [
    "## Basic jackknife estimation - mean\n",
    "Jackknife resampling is an older procedure, which isn't used as often compared as bootstrapping. However, it's still useful to know how to run a basic jackknife estimation procedure. We will calculate the jackknife estimate for the mean.\n",
    "\n",
    "You own a wrench factory and want to measure the average length of the wrenches to ensure that they meet some specifications. Your factory produces thousands of wrenches every day, but it's infeasible to measure the length of each wrench. However, you have access to a representative sample of 100 wrenches. Let's use jackknife estimation to get the average lengths.\n",
    "\n",
    "Examine the variable wrench_lengths in the shell."
   ]
  },
  {
   "cell_type": "code",
   "execution_count": 3,
   "id": "f9104ba9",
   "metadata": {},
   "outputs": [],
   "source": [
    "wrench_lengths=np.array([ 8.9143694 , 10.99734545, 10.2829785 ,  8.49370529,  9.42139975,\n",
    "       11.65143654,  7.57332076,  9.57108737, 11.26593626,  9.1332596 ,\n",
    "        9.32111385,  9.90529103, 11.49138963,  9.361098  ,  9.55601804,\n",
    "        9.56564872, 12.20593008, 12.18678609, 11.0040539 , 10.3861864 ,\n",
    "       10.73736858, 11.49073203,  9.06416613, 11.17582904,  8.74611933,\n",
    "        9.3622485 , 10.9071052 ,  8.5713193 ,  9.85993128,  9.1382451 ,\n",
    "        9.74438063,  7.20141089,  8.2284669 ,  9.30012277, 10.92746243,\n",
    "        9.82636432, 10.00284592, 10.68822271,  9.12046366, 10.28362732,\n",
    "        9.19463348,  8.27233051,  9.60910021, 10.57380586, 10.33858905,\n",
    "        9.98816951, 12.39236527, 10.41291216, 10.97873601, 12.23814334,\n",
    "        8.70591468,  8.96121179, 11.74371223,  9.20193726, 10.02968323,\n",
    "       11.06931597, 10.89070639, 11.75488618, 11.49564414, 11.06939267,\n",
    "        9.22729129, 10.79486267, 10.31427199,  8.67373454, 11.41729905,\n",
    "       10.80723653, 10.04549008,  9.76690794,  8.80169886, 10.19952407,\n",
    "       10.46843912,  9.16884502, 11.16220405,  8.90279695,  7.87689965,\n",
    "       11.03972709,  9.59663396,  9.87397041,  9.16248328,  8.39403724,\n",
    "       11.25523737,  9.31113102, 11.66095249, 10.80730819,  9.68524185,\n",
    "        8.9140976 ,  9.26753801,  8.78747687, 12.08711336, 10.16444123,\n",
    "       11.15020554,  8.73264795, 10.18103513, 11.17786194,  9.66498924,\n",
    "       11.03111446,  8.91543209,  8.63652846, 10.37940061,  9.62082357])"
   ]
  },
  {
   "cell_type": "code",
   "execution_count": 4,
   "id": "af992282",
   "metadata": {},
   "outputs": [
    {
     "name": "stdout",
     "output_type": "stream",
     "text": [
      "Jackknife estimate of the mean = 10.027109074099998\n"
     ]
    }
   ],
   "source": [
    "# Leave one observation out from wrench_lengths to get the jackknife sample and store the mean length\n",
    "mean_lengths, n = [], len(wrench_lengths)\n",
    "index = np.arange(n)\n",
    "\n",
    "for i in range(n):\n",
    "    jk_sample = wrench_lengths[index != i]\n",
    "    mean_lengths.append(np.mean(jk_sample))\n",
    "\n",
    "# The jackknife estimate is the mean of the mean lengths from each sample\n",
    "mean_lengths_jk = np.mean((np.array(mean_lengths)))\n",
    "print(\"Jackknife estimate of the mean = {}\".format(mean_lengths_jk))"
   ]
  },
  {
   "cell_type": "markdown",
   "id": "fd34d42e",
   "metadata": {},
   "source": [
    "## Jackknife confidence interval for the median\n",
    "We will calculate the jackknife 95% CI for a non-standard estimator. Here, we will look at the median. Keep in mind that the variance of a jackknife estimator is n-1 times the variance of the individual jackknife sample estimates where n is the number of observations in the original sample.\n",
    "\n",
    "Returning to the wrench factory, you are now interested in estimating the median length of the wrenches along with a 95% CI to ensure that the wrenches are within tolerance.\n",
    "\n",
    "Let's revisit the code from the previous exercise, but this time in the context of median lengths. By the end of this exercise, you will have a much better idea of how to use jackknife resampling to calculate confidence intervals for non-standard estimators."
   ]
  },
  {
   "cell_type": "code",
   "execution_count": 5,
   "id": "c8d67913",
   "metadata": {},
   "outputs": [
    {
     "name": "stdout",
     "output_type": "stream",
     "text": [
      "Jackknife 95% CI lower = 9.138592415216381, upper = 10.754868124783625\n"
     ]
    }
   ],
   "source": [
    "# Leave one observation out to get the jackknife sample and store the median length\n",
    "median_lengths = []\n",
    "for i in range(n):\n",
    "    jk_sample = wrench_lengths[index != i]\n",
    "    median_lengths.append(np.median(jk_sample))\n",
    "\n",
    "median_lengths = np.array(median_lengths)\n",
    "\n",
    "# Calculate jackknife estimate and it's variance\n",
    "jk_median_length = np.mean(median_lengths)\n",
    "jk_var = (n-1)*np.var(median_lengths)\n",
    "\n",
    "# Assuming normality, calculate lower and upper 95% confidence intervals\n",
    "jk_lower_ci = jk_median_length - 1.96*np.sqrt(jk_var)\n",
    "jk_upper_ci = jk_median_length + 1.96*np.sqrt(jk_var)\n",
    "print(\"Jackknife 95% CI lower = {}, upper = {}\".format(jk_lower_ci, jk_upper_ci))"
   ]
  },
  {
   "cell_type": "code",
   "execution_count": null,
   "id": "eac2b32b",
   "metadata": {},
   "outputs": [],
   "source": []
  }
 ],
 "metadata": {
  "kernelspec": {
   "display_name": "Python 3",
   "language": "python",
   "name": "python3"
  },
  "language_info": {
   "codemirror_mode": {
    "name": "ipython",
    "version": 3
   },
   "file_extension": ".py",
   "mimetype": "text/x-python",
   "name": "python",
   "nbconvert_exporter": "python",
   "pygments_lexer": "ipython3",
   "version": "3.8.5"
  }
 },
 "nbformat": 4,
 "nbformat_minor": 5
}
