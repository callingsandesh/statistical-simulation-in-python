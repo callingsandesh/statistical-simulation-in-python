{
 "cells": [
  {
   "cell_type": "code",
   "execution_count": 1,
   "id": "cb7b3225",
   "metadata": {},
   "outputs": [],
   "source": [
    "import numpy as np"
   ]
  },
  {
   "cell_type": "markdown",
   "id": "eabb9c1b",
   "metadata": {},
   "source": [
    "## Driving test\n",
    "we will see how to build a data generating process (DGP) through progressively complex examples.\n",
    "\n",
    "We will simulate a very simple DGP. Suppose that we are about to take a driving test tomorrow. Based on our own practice and based on data we have gathered, we know that the probability of us passing the test is 90% when it's sunny and only 30% when it's raining. Our local weather station forecasts that there's a 40% chance of rain tomorrow. Based on this information, we want to know what is the probability of us passing the driving test tomorrow.\n",
    "\n",
    "This is a simple problem and can be solved analytically. Here, you will learn how to model a simple DGP and see how it can be used for simulation."
   ]
  },
  {
   "cell_type": "code",
   "execution_count": 10,
   "id": "a1c60230",
   "metadata": {},
   "outputs": [],
   "source": [
    "sims, outcomes, p_rain, p_pass = 1000, [], 0.40, {'sun':0.9, 'rain':0.3}\n",
    "\n",
    "def test_outcome(p_rain):  \n",
    "    # Simulate whether it will rain or not\n",
    "    weather = np.random.choice(['rain', 'sun'], p=[p_rain,1-p_rain])\n",
    "    # Simulate and return whether you will pass or fail\n",
    "    test_result = np.random.choice(['pass', 'fail'], p=[p_pass[weather],1-p_pass[weather]])\n",
    "    return test_result"
   ]
  },
  {
   "cell_type": "code",
   "execution_count": 19,
   "id": "35081b76",
   "metadata": {},
   "outputs": [
    {
     "name": "stdout",
     "output_type": "stream",
     "text": [
      "Probability of Passing the driving test = 0.657\n"
     ]
    }
   ],
   "source": [
    "for _ in range(sims):\n",
    "    outcomes.append(test_outcome(p_rain))\n",
    "\n",
    "# Calculate fraction of outcomes where you pass\n",
    "pass_outcomes_frac = outcomes.count('pass')/len(outcomes)\n",
    "print(\"Probability of Passing the driving test = {}\".format(pass_outcomes_frac))"
   ]
  },
  {
   "cell_type": "markdown",
   "id": "a5b6bb3e",
   "metadata": {},
   "source": [
    "## National elections"
   ]
  },
  {
   "cell_type": "markdown",
   "id": "8f60aca7",
   "metadata": {},
   "source": [
    "This exercise will give you a taste of how you can model a DGP at different levels of complexity.\n",
    "\n",
    "Consider national elections in a country with two political parties - Red and Blue. This country has 50 states and the party that wins the most states wins the elections. You have the probability p of Red winning in each individual state and want to know the probability of Red winning nationally.\n",
    "\n",
    "Let's model the DGP to understand the distribution. Suppose the election outcome in each state follows a binomial distribution with probability p such that 0 indicates a loss for Red and  1 indicates a win. We then simulate a number of election outcomes. Finally, we can ask rich questions like what is the probability of Red winning less than 45% of the states?"
   ]
  },
  {
   "cell_type": "code",
   "execution_count": 24,
   "id": "c41298a3",
   "metadata": {},
   "outputs": [],
   "source": [
    "p=np.array([0.52076814, 0.67846401, 0.82731745, 0.64722761, 0.03665174,\n",
    "       0.17835411, 0.75296372, 0.22206157, 0.72778372, 0.28461556,\n",
    "       0.72545221, 0.106571  , 0.09291364, 0.77535718, 0.51440142,\n",
    "       0.89604586, 0.39376099, 0.24910244, 0.92518253, 0.08165597,\n",
    "       0.4212476 , 0.74123879, 0.2479099 , 0.46125805, 0.19584491,\n",
    "       0.24440482, 0.349916  , 0.80224624, 0.80186664, 0.82968251,\n",
    "       0.91178779, 0.51739059, 0.67338858, 0.15675863, 0.37772308,\n",
    "       0.77134621, 0.71727114, 0.92700912, 0.28386132, 0.25502498,\n",
    "       0.30081506, 0.19724585, 0.29129564, 0.56623386, 0.97681039,\n",
    "       0.96263926, 0.0548948 , 0.14092758, 0.54739446, 0.54555576])"
   ]
  },
  {
   "cell_type": "code",
   "execution_count": 25,
   "id": "d653ce9e",
   "metadata": {},
   "outputs": [
    {
     "name": "stdout",
     "output_type": "stream",
     "text": [
      "Probability of Red winning in less than 45% of the states = 0.176\n"
     ]
    }
   ],
   "source": [
    "outcomes, sims, probs = [], 1000, p\n",
    "\n",
    "for _ in range(sims):\n",
    "    # Simulate elections in the 50 states\n",
    "    election = np.random.binomial(p=probs, n=1)\n",
    "    # Get average of Red wins and add to `outcomes`\n",
    "    outcomes.append(election.mean())\n",
    "\n",
    "# Calculate probability of Red winning in less than 45% of the states\n",
    "prob_red_wins = sum([(x < 0.45) for x in outcomes])/len(outcomes)\n",
    "print(\"Probability of Red winning in less than 45% of the states = {}\".format(prob_red_wins))"
   ]
  },
  {
   "cell_type": "markdown",
   "id": "ef0a9e40",
   "metadata": {},
   "source": [
    "## Fitness goals"
   ]
  },
  {
   "cell_type": "markdown",
   "id": "cd6baa64",
   "metadata": {},
   "source": [
    "Let's model how activity levels impact weight loss using modern fitness trackers. On days when you go to the gym, you average around 15k steps, and around 5k steps otherwise. You go to the gym 40% of the time. Let's model the step counts in a day as a Poisson random variable with a mean λ dependent on whether or not you go to the gym.\n",
    "\n",
    "For simplicity, let’s say you have an 80% chance of losing 1lb and a 20% chance of gaining 1lb when you get more than 10k steps. The probabilities are reversed when you get less than 8k steps. Otherwise, there's an even chance of gaining or losing 1lb. Given all this information, find the probability of losing weight in a month."
   ]
  },
  {
   "cell_type": "code",
   "execution_count": 80,
   "id": "9b922835",
   "metadata": {},
   "outputs": [],
   "source": [
    "outcomes, sims , days= [], 1000 , 30"
   ]
  },
  {
   "cell_type": "code",
   "execution_count": 92,
   "id": "ec575464",
   "metadata": {},
   "outputs": [
    {
     "name": "stdout",
     "output_type": "stream",
     "text": [
      "Probability of Weight Loss = 0.198\n"
     ]
    }
   ],
   "source": [
    "# Simulate steps & choose prob \n",
    "for _ in range(sims):\n",
    "    w = []\n",
    "    for i in range(days):\n",
    "        lam = np.random.choice([5000, 15000], p=[0.6, 0.4], size=1)\n",
    "        steps = np.random.poisson(lam)\n",
    "        if steps > 10000: \n",
    "            prob = [0.2,0.8]\n",
    "        elif steps < 8000: \n",
    "            prob = [0.8,0.2]\n",
    "        else:\n",
    "            prob = [0.5, 0.5]\n",
    "        w.append(np.random.choice([1, -1], p=prob))\n",
    "    outcomes.append(sum(w))\n",
    "\n",
    "# Calculate fraction of outcomes where there was a weight loss\n",
    "weight_loss_outcomes_frac =sum([(x < 0) for x in outcomes]) / len(outcomes)\n",
    "print(\"Probability of Weight Loss = {}\".format(weight_loss_outcomes_frac))"
   ]
  },
  {
   "cell_type": "code",
   "execution_count": null,
   "id": "0d35b25c",
   "metadata": {},
   "outputs": [],
   "source": []
  }
 ],
 "metadata": {
  "kernelspec": {
   "display_name": "Python 3",
   "language": "python",
   "name": "python3"
  },
  "language_info": {
   "codemirror_mode": {
    "name": "ipython",
    "version": 3
   },
   "file_extension": ".py",
   "mimetype": "text/x-python",
   "name": "python",
   "nbconvert_exporter": "python",
   "pygments_lexer": "ipython3",
   "version": "3.8.5"
  }
 },
 "nbformat": 4,
 "nbformat_minor": 5
}
