{
 "cells": [
  {
   "cell_type": "code",
   "execution_count": 39,
   "id": "7b48c610",
   "metadata": {},
   "outputs": [],
   "source": [
    "import numpy as np\n",
    "import matplotlib.pyplot as plt\n",
    "import seaborn as sns\n",
    "sns.set()"
   ]
  },
  {
   "cell_type": "markdown",
   "id": "ef531a10",
   "metadata": {},
   "source": [
    "## Throwing a Fair Dice"
   ]
  },
  {
   "cell_type": "code",
   "execution_count": 6,
   "id": "a317154f",
   "metadata": {},
   "outputs": [
    {
     "name": "stdout",
     "output_type": "stream",
     "text": [
      "Outcome of the throw: 6\n"
     ]
    }
   ],
   "source": [
    "# Define die outcomes and probabilities\n",
    "die, probabilities, throws = [1,2,3,4,5,6], [1/6, 1/6, 1/6, 1/6, 1/6, 1/6], 1\n",
    "\n",
    "# Use np.random.choice to throw the die once and record the outcome\n",
    "outcome = np.random.choice(die, size=throws, p=probabilities)\n",
    "print(\"Outcome of the throw: {}\".format(outcome[0]))"
   ]
  },
  {
   "cell_type": "markdown",
   "id": "885be7b3",
   "metadata": {},
   "source": [
    "## Throwing two fair dice"
   ]
  },
  {
   "cell_type": "code",
   "execution_count": 23,
   "id": "5898b94e",
   "metadata": {},
   "outputs": [
    {
     "name": "stdout",
     "output_type": "stream",
     "text": [
      "The dice show 1 and 1. You win!\n"
     ]
    }
   ],
   "source": [
    "# Initialize number of dice, simulate & record outcome\n",
    "die, probabilities, num_dice = [1,2,3,4,5,6], [1/6, 1/6, 1/6, 1/6, 1/6, 1/6], 2\n",
    "outcomes = np.random.choice(die, size=num_dice, p=probabilities) \n",
    "\n",
    "# Win if the two dice show the same number\n",
    "if outcomes[0] == outcomes[1]: \n",
    "    answer = 'win' \n",
    "else:\n",
    "    answer = 'lose'\n",
    "\n",
    "print(\"The dice show {} and {}. You {}!\".format(outcomes[0], outcomes[1], answer))"
   ]
  },
  {
   "cell_type": "markdown",
   "id": "ee1a01a7",
   "metadata": {},
   "source": [
    "## Simulating the dice game"
   ]
  },
  {
   "cell_type": "code",
   "execution_count": 51,
   "id": "69ace887",
   "metadata": {},
   "outputs": [
    {
     "name": "stdout",
     "output_type": "stream",
     "text": [
      "In 100 games simulating 1000 times, you win average of 16.616 times\n"
     ]
    }
   ],
   "source": [
    "# Initialize model parameters & simulate dice throw\n",
    "die, probabilities, num_dice = [1,2,3,4,5,6], [1/6, 1/6, 1/6, 1/6, 1/6, 1/6], 2\n",
    "sims, wins = 100, 0\n",
    "total_wins=[]\n",
    "for i in range(1000):\n",
    "    wins=0\n",
    "    for i in range(sims):\n",
    "        outcomes = np.random.choice(die , size=num_dice , p=probabilities) \n",
    "        # Increment `wins` by 1 if the dice show same number\n",
    "        if outcomes[0] == outcomes[1]: \n",
    "            wins = wins + 1 \n",
    "    total_wins.append(wins)\n",
    "print(\"In {} games simulating 1000 times, you win average of {} times\".format(sims, np.mean(total_wins)))"
   ]
  },
  {
   "cell_type": "code",
   "execution_count": 52,
   "id": "11f78345",
   "metadata": {},
   "outputs": [
    {
     "data": {
      "text/plain": [
       "<AxesSubplot:ylabel='Count'>"
      ]
     },
     "execution_count": 52,
     "metadata": {},
     "output_type": "execute_result"
    },
    {
     "data": {
      "image/png": "[encoded data removed]",
      "text/plain": [
       "<Figure size 432x288 with 1 Axes>"
      ]
     },
     "metadata": {},
     "output_type": "display_data"
    }
   ],
   "source": [
    "sns.histplot(total_wins)"
   ]
  }
 ],
 "metadata": {
  "kernelspec": {
   "display_name": "Python 3",
   "language": "python",
   "name": "python3"
  },
  "language_info": {
   "codemirror_mode": {
    "name": "ipython",
    "version": 3
   },
   "file_extension": ".py",
   "mimetype": "text/x-python",
   "name": "python",
   "nbconvert_exporter": "python",
   "pygments_lexer": "ipython3",
   "version": "3.8.5"
  }
 },
 "nbformat": 4,
 "nbformat_minor": 5
}
