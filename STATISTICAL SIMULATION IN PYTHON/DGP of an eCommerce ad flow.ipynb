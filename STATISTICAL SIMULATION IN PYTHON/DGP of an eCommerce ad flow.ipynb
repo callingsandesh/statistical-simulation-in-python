{
 "cells": [
  {
   "cell_type": "code",
   "execution_count": 1,
   "id": "7b296aa0",
   "metadata": {},
   "outputs": [],
   "source": [
    "import numpy as np"
   ]
  },
  {
   "cell_type": "markdown",
   "id": "fbbcd7b2",
   "metadata": {},
   "source": [
    "## Sign up Flow"
   ]
  },
  {
   "cell_type": "markdown",
   "id": "9b84927a",
   "metadata": {},
   "source": [
    "We will now model the DGP of an eCommerce ad flow starting with sign-ups.\n",
    "\n",
    "On any day, we get many ad impressions, which can be modeled as Poisson random variables (RV). You are told that λ is normally distributed with a mean of 100k visitors and standard deviation 2000.\n",
    "\n",
    "During the signup journey, the customer sees an ad, decides whether or not to click, and then whether or not to signup. Thus both clicks and signups are binary, modeled using binomial RVs. What about probability  of success? Our current low-cost option gives us a click-through rate of 1% and a sign-up rate of 20%. A higher cost option could increase the clickthrough and signup rate by up to 20%, but we are unsure of the level of improvement, so we model it as a uniform RV."
   ]
  },
  {
   "cell_type": "markdown",
   "id": "50b8caca",
   "metadata": {},
   "source": [
    "where , λ is arrival rate."
   ]
  },
  {
   "cell_type": "markdown",
   "id": "c3286345",
   "metadata": {},
   "source": [
    "below , ct_rate is click rate and su_rate is the sign up rate."
   ]
  },
  {
   "cell_type": "code",
   "execution_count": 2,
   "id": "26ccfb34",
   "metadata": {},
   "outputs": [
    {
     "name": "stdout",
     "output_type": "stream",
     "text": [
      "Simulated Signups = [223]\n"
     ]
    }
   ],
   "source": [
    "# Initialize click-through rate and signup rate dictionaries\n",
    "ct_rate = {'low':0.01, 'high':np.random.uniform(low=0.01, high=1.2*0.01)}\n",
    "su_rate = {'low':0.2, 'high':np.random.uniform(low=0.2, high=1.2*0.2)}\n",
    "\n",
    "def get_signups(cost, ct_rate, su_rate, sims):\n",
    "    lam = np.random.normal(loc=100000, scale=2000, size=sims)\n",
    "    # Simulate impressions(poisson), clicks(binomial) and signups(binomial)\n",
    "    impressions = np.random.poisson(lam)\n",
    "    clicks = np.random.binomial(impressions , ct_rate[cost])\n",
    "    signups = np.random.binomial(clicks , su_rate[cost])\n",
    "    return signups\n",
    "\n",
    "print(\"Simulated Signups = {}\".format(get_signups('high', ct_rate, su_rate, 1)))"
   ]
  },
  {
   "cell_type": "markdown",
   "id": "58c1658a",
   "metadata": {},
   "source": [
    "## Purchase Flow\n",
    "After signups, let's model the revenue generation process. Once the customer has signed up, they decide whether or not to purchase - a natural candidate for a binomial RV. Let's assume that 10% of signups result in a purchase.\n",
    "\n",
    "Although customers can make many purchases, let's assume one purchase. The purchase value could be modeled by any continuous RV, but one nice candidate is the exponential RV. Suppose we know that purchase value per customer has averaged around $1000. We use this information to create the purchase_values RV. The revenue, then, is simply the sum of all purchase values.\n",
    "\n",
    "The variables ct_rate, su_rate and the function get_signups() from the last exercise are pre-loaded for you."
   ]
  },
  {
   "cell_type": "code",
   "execution_count": 3,
   "id": "6dadf705",
   "metadata": {},
   "outputs": [
    {
     "name": "stdout",
     "output_type": "stream",
     "text": [
      "Simulated Revenue = $19788.227707152106\n"
     ]
    }
   ],
   "source": [
    "def get_revenue(signups):\n",
    "    rev = []\n",
    "    np.random.seed(123)\n",
    "    for s in signups:\n",
    "        # Model purchases as binomial, purchase_values as exponential\n",
    "        purchases = np.random.binomial(s, p=0.1)\n",
    "        purchase_values = np.random.exponential(scale=1000 , size=purchases)\n",
    "        # Append to revenue the sum of all purchase values.\n",
    "        rev.append(np.sum(purchase_values))\n",
    "    return rev\n",
    "\n",
    "print(\"Simulated Revenue = ${}\".format(get_revenue(get_signups('low', ct_rate, su_rate, 1))[0]))"
   ]
  },
  {
   "cell_type": "markdown",
   "id": "9667fca3",
   "metadata": {},
   "source": [
    "## Probability of losing money\n",
    "We will use the DGP model to estimate probability.\n",
    "\n",
    "As seen earlier, this company has the option of spending extra money, let's say $3000, to redesign the ad. This could potentially get them higher clickthrough and signup rates, but this is not guaranteed. We would like to know whether or not to spend this extra 3000 by calculating the probability of losing money. In other words, the probability that the revenue from the high-cost option minus the revenue from the low-cost option is lesser than the cost.\n",
    "\n",
    "Once we have simulated revenue outcomes, we can ask a rich set of questions that might not have been accessible using traditional analytical methods.\n",
    "\n",
    "This simple yet powerful framework forms the basis of Bayesian methods for getting probabilities."
   ]
  },
  {
   "cell_type": "code",
   "execution_count": 4,
   "id": "0126610c",
   "metadata": {},
   "outputs": [
    {
     "name": "stdout",
     "output_type": "stream",
     "text": [
      "Probability of losing money = 0.5168\n"
     ]
    }
   ],
   "source": [
    "# Initialize cost_diff\n",
    "sims, cost_diff = 10000, 3000\n",
    "\n",
    "# Get revenue when the cost is 'low' and when the cost is 'high'\n",
    "rev_low = get_revenue(get_signups('low', ct_rate, su_rate, sims))\n",
    "rev_high = get_revenue(get_signups('high', ct_rate, su_rate, sims))\n",
    "\n",
    "# calculate fraction of times rev_high - rev_low is less than cost_diff\n",
    "frac = np.sum((np.array(rev_high)-np.array(rev_low)) < cost_diff) / len(rev_high)\n",
    "print(\"Probability of losing money = {}\".format(frac))"
   ]
  }
 ],
 "metadata": {
  "kernelspec": {
   "display_name": "Python 3",
   "language": "python",
   "name": "python3"
  },
  "language_info": {
   "codemirror_mode": {
    "name": "ipython",
    "version": 3
   },
   "file_extension": ".py",
   "mimetype": "text/x-python",
   "name": "python",
   "nbconvert_exporter": "python",
   "pygments_lexer": "ipython3",
   "version": "3.8.5"
  }
 },
 "nbformat": 4,
 "nbformat_minor": 5
}
