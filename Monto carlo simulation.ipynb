{
 "cells": [
  {
   "cell_type": "code",
   "execution_count": 15,
   "id": "807c42d0",
   "metadata": {},
   "outputs": [],
   "source": [
    "import numpy as np\n",
    "import matplotlib.pyplot as plt\n",
    "import seaborn as sns\n",
    "sns.set()"
   ]
  },
  {
   "cell_type": "markdown",
   "id": "7b1742cd",
   "metadata": {},
   "source": [
    "## Integrating a Simple Function"
   ]
  },
  {
   "cell_type": "code",
   "execution_count": 16,
   "id": "f8d14d83",
   "metadata": {},
   "outputs": [
    {
     "data": {
      "image/png": "[encoded data removed]",
      "text/plain": [
       "<Figure size 432x288 with 1 Axes>"
      ]
     },
     "metadata": {},
     "output_type": "display_data"
    }
   ],
   "source": [
    "x=np.linspace(-5,2,100)\n",
    "y=x*np.exp(x)\n",
    "plt.plot(x,y)\n",
    "plt.xlim([-5,5])\n",
    "plt.title(\"function showing  x*e^x\")\n",
    "plt.show()"
   ]
  },
  {
   "cell_type": "markdown",
   "id": "e1e2fc18",
   "metadata": {},
   "source": [
    "#### solving"
   ]
  },
  {
   "cell_type": "code",
   "execution_count": 17,
   "id": "e0581c26",
   "metadata": {},
   "outputs": [
    {
     "name": "stdout",
     "output_type": "stream",
     "text": [
      "Simulated answer = 0.9980472022239452, Actual Answer = 1\n"
     ]
    }
   ],
   "source": [
    "# Define the sim_integrate function\n",
    "def sim_integrate(func, xmin, xmax, sims):\n",
    "    x = np.random.uniform(xmin, xmax, sims)\n",
    "    y = np.random.uniform(min(min(func(x)), 0), max(func(x)), sims)\n",
    "    area = (max(y) - min(y))*(xmax-xmin)\n",
    "    result = area * sum(abs(y) < abs(func(x)))/sims\n",
    "    return result\n",
    "\n",
    "# Call the sim_integrate function and print results\n",
    "result = sim_integrate(func = lambda x: x*np.exp(x), xmin = 0, xmax = 1, sims = 50000)\n",
    "print(\"Simulated answer = {}, Actual Answer = 1\".format(result))"
   ]
  },
  {
   "cell_type": "markdown",
   "id": "7d6a409f",
   "metadata": {},
   "source": [
    "## Value of pi"
   ]
  },
  {
   "cell_type": "markdown",
   "id": "490b5dd3",
   "metadata": {},
   "source": [
    "Now we work through a classic example - estimating the value of π.\n",
    "\n",
    "Imagine a square of side 2 with the origin (0,0) as its center and the four corners having coordinates (1,1),(1,-1),(-1,1),(-1,-1). The area of this square is 2*2=4 . Now imagine a circle of radius 1 with its center at the origin fitting perfectly inside this square. The area of the circle will be \n",
    "π * radius^2 = π.\n",
    "\n",
    "To estimate π, we randomly sample multiple points in this square & get the fraction of points inside the circle (x^2 + y^2 <=1). The area of the circle then is  times this fraction, which gives us our estimate of .\n",
    "\n",
    "After this exercise, you'll have a grasp of how to use simulation for computation."
   ]
  },
  {
   "cell_type": "code",
   "execution_count": 18,
   "id": "35ce888c",
   "metadata": {},
   "outputs": [
    {
     "name": "stdout",
     "output_type": "stream",
     "text": [
      "Simulated value of pi = 3.1568\n"
     ]
    }
   ],
   "source": [
    "# Initialize sims and circle_points\n",
    "sims, circle_points = 10000, 0 \n",
    "\n",
    "for i in range(sims):\n",
    "    # Generate the two coordinates of a point\n",
    "    point = np.random.uniform(-1,1,2)\n",
    "    # if the point lies within the unit circle, increment counter\n",
    "    within_circle = point[0]**2 + point[1]**2 <= 1\n",
    "    if within_circle == True:\n",
    "        circle_points +=1\n",
    "        \n",
    "# Estimate pi as 4 times the avg number of points in the circle.\n",
    "pi_sim = 4 * circle_points/sims\n",
    "print(\"Simulated value of pi = {}\".format(pi_sim))"
   ]
  },
  {
   "cell_type": "code",
   "execution_count": null,
   "id": "c1b339fa",
   "metadata": {},
   "outputs": [],
   "source": []
  }
 ],
 "metadata": {
  "kernelspec": {
   "display_name": "Python 3",
   "language": "python",
   "name": "python3"
  },
  "language_info": {
   "codemirror_mode": {
    "name": "ipython",
    "version": 3
   },
   "file_extension": ".py",
   "mimetype": "text/x-python",
   "name": "python",
   "nbconvert_exporter": "python",
   "pygments_lexer": "ipython3",
   "version": "3.8.5"
  }
 },
 "nbformat": 4,
 "nbformat_minor": 5
}
