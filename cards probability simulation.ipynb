{
 "cells": [
  {
   "cell_type": "code",
   "execution_count": 1,
   "id": "a321b585",
   "metadata": {},
   "outputs": [],
   "source": [
    "import numpy as np\n",
    "import matplotlib.pyplot as plt\n",
    "import seaborn as sns\n",
    "sns.set()"
   ]
  },
  {
   "cell_type": "markdown",
   "id": "d1fabe24",
   "metadata": {},
   "source": [
    "## Two of a kind"
   ]
  },
  {
   "cell_type": "markdown",
   "id": "08016795",
   "metadata": {},
   "source": [
    "Now let's use simulation to estimate probabilities. Suppose we've been invited to a game of poker at our friend's home. In this variation of the game, we are dealt five cards and the player with the better hand wins. we will use a simulation to estimate the probabilities of getting certain hands. Let's work on estimating the probability of getting at least two of a kind. Two of a kind is when we get two cards of different suites but having the same numeric value (e.g., 2 of hearts, 2 of spades, and 3 other cards).\n",
    "\n",
    "We will know how to use simulation to calculate probabilities for card games."
   ]
  },
  {
   "cell_type": "code",
   "execution_count": 113,
   "id": "3770841b",
   "metadata": {},
   "outputs": [],
   "source": [
    "deck_of_cards=[('Heart', 0),('Heart', 1),('Heart', 2),('Heart', 3),('Heart', 4),('Heart', 5),('Heart', 6),('Heart', 7),('Heart', 8),('Heart', 9),('Heart', 10),('Heart', 11),('Heart', 12),\n",
    "               ('Club', 0),('Club', 1),('Club', 2),('Club', 3),('Club', 4),('Club', 5),('Club', 6),('Club', 7),('Club', 8),('Club', 9),('Club', 10),('Club', 11),('Club', 12),\n",
    "               ('Spade', 0),('Spade', 1),('Spade', 2),('Spade', 3),('Spade', 4),('Spade', 5),('Spade', 6),('Spade', 7),('Spade', 8),('Spade', 9),('Spade', 10),('Spade', 11),('Spade', 12),\n",
    "               ('Diamond', 0),('Diamond', 1),('Diamond', 2),('Diamond', 3),('Diamond', 4),('Diamond', 5),('Diamond', 6),('Diamond', 7),('Diamond', 8),('Diamond', 9),('Diamond', 10),('Diamond', 11),('Diamond', 12)]"
   ]
  },
  {
   "cell_type": "code",
   "execution_count": 22,
   "id": "d39fd9f2",
   "metadata": {},
   "outputs": [
    {
     "name": "stdout",
     "output_type": "stream",
     "text": [
      "Probability of seeing at least two of a kind = 0.49144 \n"
     ]
    }
   ],
   "source": [
    "# Shuffle deck & count card occurrences in the hand\n",
    "n_sims, two_kind = 50000, 0\n",
    "for i in range(n_sims):\n",
    "    np.random.shuffle(deck_of_cards)\n",
    "    hand, cards_in_hand = deck_of_cards[0:5], {}\n",
    "    for [suite, numeric_value] in hand:\n",
    "        # Count occurrences of each numeric value\n",
    "        cards_in_hand[numeric_value] = cards_in_hand.get(numeric_value, 0) + 1\n",
    "    \n",
    "    # Condition for getting at least 2 of a kind\n",
    "    if max(cards_in_hand.values()) >=2: \n",
    "        two_kind += 1\n",
    "\n",
    "print(\"Probability of seeing at least two of a kind = {} \".format(two_kind/n_sims))"
   ]
  },
  {
   "cell_type": "code",
   "execution_count": 23,
   "id": "29e442c8",
   "metadata": {},
   "outputs": [
    {
     "data": {
      "text/plain": [
       "[('Heart', 1), ('Heart', 0), ('Club', 5), ('Diamond', 1), ('Club', 1)]"
      ]
     },
     "execution_count": 23,
     "metadata": {},
     "output_type": "execute_result"
    }
   ],
   "source": [
    "hand"
   ]
  },
  {
   "cell_type": "code",
   "execution_count": 24,
   "id": "e67925d8",
   "metadata": {},
   "outputs": [
    {
     "data": {
      "text/plain": [
       "('Club', 1)"
      ]
     },
     "execution_count": 24,
     "metadata": {},
     "output_type": "execute_result"
    }
   ],
   "source": [
    "(suite, numeric_value)"
   ]
  },
  {
   "cell_type": "code",
   "execution_count": 25,
   "id": "6af3bee1",
   "metadata": {},
   "outputs": [
    {
     "data": {
      "text/plain": [
       "{1: 3, 0: 1, 5: 1}"
      ]
     },
     "execution_count": 25,
     "metadata": {},
     "output_type": "execute_result"
    }
   ],
   "source": [
    "cards_in_hand"
   ]
  },
  {
   "cell_type": "markdown",
   "id": "d8131cee",
   "metadata": {},
   "source": [
    "## Game of thirteen"
   ]
  },
  {
   "cell_type": "markdown",
   "id": "1ba4564f",
   "metadata": {},
   "source": [
    "A famous French mathematician Pierre Raymond De Montmart, who was known for his work in combinatorics, proposed a simple game called as Game of Thirteen. We have a deck of 13 cards, each numbered from 1 through 13. Shuffle this deck and draw cards one by one. A coincidence is when the number on the card matches the order in which the card is drawn. For instance, if the 5th card we draw happens to be a 5, it's a coincidence. You win the game if you get through all the cards without any coincidences. Let's calculate the probability of winning at this game using simulation."
   ]
  },
  {
   "cell_type": "code",
   "execution_count": 51,
   "id": "38e1fba9",
   "metadata": {},
   "outputs": [
    {
     "name": "stdout",
     "output_type": "stream",
     "text": [
      "Probability of winning = 0.36729999999999996\n"
     ]
    }
   ],
   "source": [
    "# Pre-set constant variables\n",
    "deck, sims, coincidences = np.arange(1, 14), 10000, 0\n",
    "\n",
    "for _ in range(sims):\n",
    "    # Draw all the cards without replacement to simulate one game\n",
    "    draw = np.random.choice(deck, size=13, replace=False)\n",
    "    # Check if there are any coincidences\n",
    "    #print(draw)\n",
    "    coincidence = (draw == list(np.arange(1, 14))).any()\n",
    "    #print(coincidence)\n",
    "    if coincidence == True: \n",
    "        coincidences += 1\n",
    "\n",
    "# Calculate probability of winning\n",
    "prob_of_winning = 1-coincidences/sims\n",
    "print(\"Probability of winning = {}\".format(prob_of_winning))"
   ]
  },
  {
   "cell_type": "markdown",
   "id": "d80bc303",
   "metadata": {},
   "source": [
    "### Deck of 52 cards"
   ]
  },
  {
   "cell_type": "code",
   "execution_count": 101,
   "id": "585d9076",
   "metadata": {},
   "outputs": [
    {
     "name": "stdout",
     "output_type": "stream",
     "text": [
      "Probability of winning = 0.35860000000000003\n"
     ]
    }
   ],
   "source": [
    "# Pre-set constant variables\n",
    "deck, sims, coincidences = np.arange(1, 14), 10000, 0\n",
    "deck=np.tile(deck,4)\n",
    "\n",
    "for _ in range(sims):\n",
    "    np.random.shuffle(deck)\n",
    "    # Draw all the cards without replacement to simulate one game\n",
    "    draw = deck[:13]\n",
    "    # Check if there are any coincidences\n",
    "    #print(draw)\n",
    "    coincidence = (draw == list(np.arange(1, 14))).any()\n",
    "    #print(coincidence)\n",
    "    if coincidence == True: \n",
    "        coincidences += 1\n",
    "\n",
    "# Calculate probability of winning\n",
    "prob_of_winning = 1-coincidences/sims\n",
    "print(\"Probability of winning = {}\".format(prob_of_winning))"
   ]
  },
  {
   "cell_type": "markdown",
   "id": "aab6b0c2",
   "metadata": {},
   "source": [
    "## Full house"
   ]
  },
  {
   "cell_type": "markdown",
   "id": "fc046ca3",
   "metadata": {},
   "source": [
    "Let's return to our poker game. Above, we calculated the probability of getting at least two of a kind. This time we are interested in a full house. A full house is when you get two cards of different suits that share the same numeric value and three other cards that have the same numeric value (e.g., 2 of hearts & spades, jacks of clubs, diamonds, & spades).\n",
    "\n",
    "Thus, a full house is the probability of getting exactly three of a kind conditional on getting exactly two of a kind of another value. Using the same code as before, modify the success condition to get the desired output. This exercise will teach you to estimate conditional probabilities in card games and build your foundation in framing abstract problems for simulation."
   ]
  },
  {
   "cell_type": "code",
   "execution_count": 139,
   "id": "4e4dfa2f",
   "metadata": {},
   "outputs": [
    {
     "name": "stdout",
     "output_type": "stream",
     "text": [
      "Probability of seeing a full house = 0.00137\n"
     ]
    }
   ],
   "source": [
    "#Shuffle deck & count card occurrences in the hand\n",
    "n_sims, full_house = 1000000, 0\n",
    "for i in range(n_sims):\n",
    "    np.random.shuffle(deck_of_cards)\n",
    "    hand, cards_in_hand = deck_of_cards[0:5], {}\n",
    "\n",
    "    for card in hand:\n",
    "        # Use .get() method to count occurrences of each card\n",
    "        cards_in_hand[card[1]] = cards_in_hand.get(card[1],0) + 1\n",
    "    # Condition for getting full house\n",
    "    condition = (max(cards_in_hand.values()) ==3) & (min(cards_in_hand.values())==2)\n",
    "    if condition: \n",
    "        full_house +=1\n",
    "print(\"Probability of seeing a full house = {:.5f}\".format(full_house/n_sims))"
   ]
  }
 ],
 "metadata": {
  "kernelspec": {
   "display_name": "Python 3",
   "language": "python",
   "name": "python3"
  },
  "language_info": {
   "codemirror_mode": {
    "name": "ipython",
    "version": 3
   },
   "file_extension": ".py",
   "mimetype": "text/x-python",
   "name": "python",
   "nbconvert_exporter": "python",
   "pygments_lexer": "ipython3",
   "version": "3.8.5"
  }
 },
 "nbformat": 4,
 "nbformat_minor": 5
}
